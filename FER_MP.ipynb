{
  "cells": [
    {
      "cell_type": "markdown",
      "metadata": {
        "id": "view-in-github",
        "colab_type": "text"
      },
      "source": [
        "<a href=\"https://colab.research.google.com/github/Srieswari/Emotzy-/blob/main/FER_MP.ipynb\" target=\"_parent\"><img src=\"https://colab.research.google.com/assets/colab-badge.svg\" alt=\"Open In Colab\"/></a>"
      ]
    },
    {
      "cell_type": "code",
      "execution_count": 1,
      "metadata": {
        "colab": {
          "base_uri": "https://localhost:8080/"
        },
        "id": "Ci-AY0hl1v_E",
        "outputId": "6b3eda43-cb4d-47fb-fcd3-f26885f83af6"
      },
      "outputs": [
        {
          "output_type": "stream",
          "name": "stdout",
          "text": [
            "Collecting mediapipe\n",
            "  Downloading mediapipe-0.10.14-cp310-cp310-manylinux_2_17_x86_64.manylinux2014_x86_64.whl (35.7 MB)\n",
            "\u001b[2K     \u001b[90m━━━━━━━━━━━━━━━━━━━━━━━━━━━━━━━━━━━━━━━━\u001b[0m \u001b[32m35.7/35.7 MB\u001b[0m \u001b[31m13.9 MB/s\u001b[0m eta \u001b[36m0:00:00\u001b[0m\n",
            "\u001b[?25hRequirement already satisfied: absl-py in /usr/local/lib/python3.10/dist-packages (from mediapipe) (1.4.0)\n",
            "Requirement already satisfied: attrs>=19.1.0 in /usr/local/lib/python3.10/dist-packages (from mediapipe) (23.2.0)\n",
            "Requirement already satisfied: flatbuffers>=2.0 in /usr/local/lib/python3.10/dist-packages (from mediapipe) (24.3.25)\n",
            "Requirement already satisfied: jax in /usr/local/lib/python3.10/dist-packages (from mediapipe) (0.4.26)\n",
            "Requirement already satisfied: jaxlib in /usr/local/lib/python3.10/dist-packages (from mediapipe) (0.4.26+cuda12.cudnn89)\n",
            "Requirement already satisfied: matplotlib in /usr/local/lib/python3.10/dist-packages (from mediapipe) (3.7.1)\n",
            "Requirement already satisfied: numpy in /usr/local/lib/python3.10/dist-packages (from mediapipe) (1.25.2)\n",
            "Requirement already satisfied: opencv-contrib-python in /usr/local/lib/python3.10/dist-packages (from mediapipe) (4.8.0.76)\n",
            "Collecting protobuf<5,>=4.25.3 (from mediapipe)\n",
            "  Downloading protobuf-4.25.3-cp37-abi3-manylinux2014_x86_64.whl (294 kB)\n",
            "\u001b[2K     \u001b[90m━━━━━━━━━━━━━━━━━━━━━━━━━━━━━━━━━━━━━━━━\u001b[0m \u001b[32m294.6/294.6 kB\u001b[0m \u001b[31m22.4 MB/s\u001b[0m eta \u001b[36m0:00:00\u001b[0m\n",
            "\u001b[?25hCollecting sounddevice>=0.4.4 (from mediapipe)\n",
            "  Downloading sounddevice-0.4.7-py3-none-any.whl (32 kB)\n",
            "Requirement already satisfied: CFFI>=1.0 in /usr/local/lib/python3.10/dist-packages (from sounddevice>=0.4.4->mediapipe) (1.16.0)\n",
            "Requirement already satisfied: ml-dtypes>=0.2.0 in /usr/local/lib/python3.10/dist-packages (from jax->mediapipe) (0.2.0)\n",
            "Requirement already satisfied: opt-einsum in /usr/local/lib/python3.10/dist-packages (from jax->mediapipe) (3.3.0)\n",
            "Requirement already satisfied: scipy>=1.9 in /usr/local/lib/python3.10/dist-packages (from jax->mediapipe) (1.11.4)\n",
            "Requirement already satisfied: contourpy>=1.0.1 in /usr/local/lib/python3.10/dist-packages (from matplotlib->mediapipe) (1.2.1)\n",
            "Requirement already satisfied: cycler>=0.10 in /usr/local/lib/python3.10/dist-packages (from matplotlib->mediapipe) (0.12.1)\n",
            "Requirement already satisfied: fonttools>=4.22.0 in /usr/local/lib/python3.10/dist-packages (from matplotlib->mediapipe) (4.53.0)\n",
            "Requirement already satisfied: kiwisolver>=1.0.1 in /usr/local/lib/python3.10/dist-packages (from matplotlib->mediapipe) (1.4.5)\n",
            "Requirement already satisfied: packaging>=20.0 in /usr/local/lib/python3.10/dist-packages (from matplotlib->mediapipe) (24.0)\n",
            "Requirement already satisfied: pillow>=6.2.0 in /usr/local/lib/python3.10/dist-packages (from matplotlib->mediapipe) (9.4.0)\n",
            "Requirement already satisfied: pyparsing>=2.3.1 in /usr/local/lib/python3.10/dist-packages (from matplotlib->mediapipe) (3.1.2)\n",
            "Requirement already satisfied: python-dateutil>=2.7 in /usr/local/lib/python3.10/dist-packages (from matplotlib->mediapipe) (2.8.2)\n",
            "Requirement already satisfied: pycparser in /usr/local/lib/python3.10/dist-packages (from CFFI>=1.0->sounddevice>=0.4.4->mediapipe) (2.22)\n",
            "Requirement already satisfied: six>=1.5 in /usr/local/lib/python3.10/dist-packages (from python-dateutil>=2.7->matplotlib->mediapipe) (1.16.0)\n",
            "Installing collected packages: protobuf, sounddevice, mediapipe\n",
            "  Attempting uninstall: protobuf\n",
            "    Found existing installation: protobuf 3.20.3\n",
            "    Uninstalling protobuf-3.20.3:\n",
            "      Successfully uninstalled protobuf-3.20.3\n",
            "\u001b[31mERROR: pip's dependency resolver does not currently take into account all the packages that are installed. This behaviour is the source of the following dependency conflicts.\n",
            "tensorflow-metadata 1.15.0 requires protobuf<4.21,>=3.20.3; python_version < \"3.11\", but you have protobuf 4.25.3 which is incompatible.\u001b[0m\u001b[31m\n",
            "\u001b[0mSuccessfully installed mediapipe-0.10.14 protobuf-4.25.3 sounddevice-0.4.7\n"
          ]
        }
      ],
      "source": [
        "!pip install mediapipe"
      ]
    },
    {
      "cell_type": "code",
      "execution_count": 2,
      "metadata": {
        "id": "hf-Mips91k2c"
      },
      "outputs": [],
      "source": [
        "import mediapipe as mp\n",
        "import cv2\n",
        "from google.colab.patches import cv2_imshow\n",
        "import glob\n",
        "from PIL import Image\n",
        "import pandas as pd\n",
        "import csv\n",
        "import pickle\n",
        "import os\n",
        "import numpy as np\n",
        "import seaborn as sns\n",
        "from sklearn.metrics import accuracy_score, precision_score, recall_score, confusion_matrix, ConfusionMatrixDisplay\n",
        "import matplotlib.pyplot as plt"
      ]
    },
    {
      "cell_type": "code",
      "execution_count": 3,
      "metadata": {
        "colab": {
          "base_uri": "https://localhost:8080/"
        },
        "id": "HtBAc9xPbGGO",
        "outputId": "1ca8d28a-6e34-4ab2-d087-6335ccaa3788"
      },
      "outputs": [
        {
          "output_type": "stream",
          "name": "stdout",
          "text": [
            "Drive already mounted at /content/drive; to attempt to forcibly remount, call drive.mount(\"/content/drive\", force_remount=True).\n"
          ]
        }
      ],
      "source": [
        "from google.colab import drive\n",
        "drive.mount('/content/drive')"
      ]
    },
    {
      "cell_type": "code",
      "execution_count": 4,
      "metadata": {
        "id": "z1jKBn8S48Ft"
      },
      "outputs": [],
      "source": [
        "mp_drawing = mp.solutions.drawing_utils\n",
        "mp_holistic = mp.solutions.holistic"
      ]
    },
    {
      "cell_type": "code",
      "execution_count": 5,
      "metadata": {
        "colab": {
          "base_uri": "https://localhost:8080/",
          "height": 241
        },
        "id": "pjXqDUaz1ovo",
        "outputId": "5c768488-7119-4571-814e-822d8ea3e56b"
      },
      "outputs": [
        {
          "output_type": "display_data",
          "data": {
            "text/plain": [
              "<PIL.Image.Image image mode=RGB size=224x224>"
            ],
            "image/png": "[encoded data removed]"
          },
          "metadata": {}
        }
      ],
      "source": [
        "image_path = '/content/drive/MyDrive/train_emotion/anger/22600236939_54d0e01905_n_face.png'\n",
        "frame = cv2.imread(image_path)\n",
        "cv2_imshow(frame)"
      ]
    },
    {
      "cell_type": "code",
      "execution_count": 22,
      "metadata": {
        "colab": {
          "base_uri": "https://localhost:8080/",
          "height": 296
        },
        "id": "S7OL0EKF1tbm",
        "outputId": "fa3dd775-9614-458f-8087-b1b67a4d20d7"
      },
      "outputs": [
        {
          "output_type": "stream",
          "name": "stderr",
          "text": [
            "/usr/local/lib/python3.10/dist-packages/google/protobuf/symbol_database.py:55: UserWarning: SymbolDatabase.GetPrototype() is deprecated. Please use message_factory.GetMessageClass() instead. SymbolDatabase.GetPrototype() will be removed soon.\n",
            "  warnings.warn('SymbolDatabase.GetPrototype() is deprecated. Please '\n"
          ]
        },
        {
          "output_type": "display_data",
          "data": {
            "text/plain": [
              "<PIL.Image.Image image mode=RGB size=224x224>"
            ],
            "image/png": "[encoded data removed]"
          },
          "metadata": {}
        }
      ],
      "source": [
        "# Initiate the process\n",
        "def get_landmarks(frame):\n",
        "  with mp_holistic.Holistic(min_detection_confidence=0.5, min_tracking_confidence=0.5) as holistic:\n",
        "      image = cv2.cvtColor(frame, cv2.COLOR_BGR2RGB)\n",
        "      image.flags.writeable = False\n",
        "\n",
        "      results = holistic.process(image)\n",
        "      image.flags.writeable = True\n",
        "      image = cv2.cvtColor(image, cv2.COLOR_RGB2BGR)\n",
        "\n",
        "      mp_drawing.draw_landmarks(image, results.face_landmarks, mp_holistic.FACEMESH_TESSELATION,\n",
        "                              mp_drawing.DrawingSpec(color=(80, 110, 10), thickness=1, circle_radius=1),\n",
        "                              mp_drawing.DrawingSpec(color=(80, 256, 121), thickness=1, circle_radius=1))\n",
        "\n",
        "      mp_drawing.draw_landmarks(image, results.right_hand_landmarks, mp_holistic.HAND_CONNECTIONS,\n",
        "                              mp_drawing.DrawingSpec(color=(80, 22, 10), thickness=2, circle_radius=4),\n",
        "                              mp_drawing.DrawingSpec(color=(80, 44, 121), thickness=2, circle_radius=2))\n",
        "\n",
        "      mp_drawing.draw_landmarks(image, results.left_hand_landmarks, mp_holistic.HAND_CONNECTIONS,\n",
        "                              mp_drawing.DrawingSpec(color=(121, 22, 76), thickness=2, circle_radius=4),\n",
        "                              mp_drawing.DrawingSpec(color=(121, 44, 250), thickness=2, circle_radius=2))\n",
        "\n",
        "      mp_drawing.draw_landmarks(image, results.pose_landmarks, mp_holistic.POSE_CONNECTIONS,\n",
        "                              mp_drawing.DrawingSpec(color=(245, 117, 66), thickness=2, circle_radius=4),\n",
        "                              mp_drawing.DrawingSpec(color=(245, 66, 230), thickness=2, circle_radius=2))\n",
        "\n",
        "      cv2_imshow(image)\n",
        "      cv2.waitKey(0)\n",
        "\n",
        "  cv2.destroyAllWindows()\n",
        "  return results\n",
        "\n",
        "results = get_landmarks(frame)"
      ]
    },
    {
      "cell_type": "code",
      "execution_count": 23,
      "metadata": {
        "id": "U8Qikjvy57wc"
      },
      "outputs": [],
      "source": [
        "num_landmarks = len(results.pose_landmarks.landmark)+len(results.face_landmarks.landmark)\n",
        "landmarks = ['class']\n",
        "for i in range(1, num_landmarks+1):\n",
        "    landmarks += ['x{}'.format(i),'y{}'.format(i),'z{}'.format(i),'v{}'.format(i)]"
      ]
    },
    {
      "cell_type": "code",
      "execution_count": 24,
      "metadata": {
        "id": "c8v5SOoC59Rd"
      },
      "outputs": [],
      "source": [
        "with open('coords.csv', mode='w', newline='') as f:\n",
        "    csv_writer = csv.writer(f, delimiter=',', quotechar='\"', quoting=csv.QUOTE_MINIMAL)\n",
        "    csv_writer.writerow(landmarks)"
      ]
    },
    {
      "cell_type": "code",
      "execution_count": 25,
      "metadata": {
        "id": "lV_ImHhu1vM2"
      },
      "outputs": [],
      "source": [
        "def get_features(frame,class_name):\n",
        "  with mp_holistic.Holistic(min_detection_confidence=0.5, min_tracking_confidence=0.5) as holistic:\n",
        "\n",
        "    image = cv2.cvtColor(frame, cv2.COLOR_BGR2RGB)\n",
        "    image.flags.writeable = False\n",
        "    results = holistic.process(image)\n",
        "\n",
        "    image.flags.writeable = True\n",
        "    image = cv2.cvtColor(image, cv2.COLOR_RGB2BGR)\n",
        "\n",
        "    mp_drawing.draw_landmarks(image, results.face_landmarks, mp_holistic.FACEMESH_TESSELATION,\n",
        "                            mp_drawing.DrawingSpec(color=(80,110,10), thickness=1, circle_radius=1),\n",
        "                            mp_drawing.DrawingSpec(color=(80,256,121), thickness=1, circle_radius=1))\n",
        "\n",
        "    mp_drawing.draw_landmarks(image, results.right_hand_landmarks, mp_holistic.HAND_CONNECTIONS,\n",
        "                              mp_drawing.DrawingSpec(color=(80,22,10), thickness=2, circle_radius=4),\n",
        "                              mp_drawing.DrawingSpec(color=(80,44,121), thickness=2, circle_radius=2))\n",
        "\n",
        "    mp_drawing.draw_landmarks(image, results.left_hand_landmarks, mp_holistic.HAND_CONNECTIONS,\n",
        "                              mp_drawing.DrawingSpec(color=(121,22,76), thickness=2, circle_radius=4),\n",
        "                              mp_drawing.DrawingSpec(color=(121,44,250), thickness=2, circle_radius=2))\n",
        "\n",
        "    mp_drawing.draw_landmarks(image, results.pose_landmarks, mp_holistic.POSE_CONNECTIONS,\n",
        "                              mp_drawing.DrawingSpec(color=(245,117,66), thickness=2, circle_radius=4),\n",
        "                              mp_drawing.DrawingSpec(color=(245,66,230), thickness=2, circle_radius=2))\n",
        "\n",
        "    try:\n",
        "\n",
        "      pose = results.pose_landmarks.landmark\n",
        "      pose_row = list(np.array([[landmark.x, landmark.y, landmark.z, landmark.visibility] for landmark in pose]).flatten())\n",
        "\n",
        "      face = results.face_landmarks.landmark\n",
        "      face_row = list(np.array([[landmark.x, landmark.y, landmark.z, landmark.visibility] for landmark in face]).flatten())\n",
        "\n",
        "      row = pose_row + face_row\n",
        "\n",
        "      row.insert(0, class_name)\n",
        "\n",
        "      with open('coords.csv', mode='a', newline='') as f:\n",
        "          csv_writer = csv.writer(f, delimiter=',', quotechar='\"', quoting=csv.QUOTE_MINIMAL)\n",
        "          csv_writer.writerow(row)\n",
        "\n",
        "    except:\n",
        "        pass\n",
        "\n",
        "  cv2.destroyAllWindows()"
      ]
    },
    {
      "cell_type": "code",
      "execution_count": null,
      "metadata": {
        "colab": {
          "base_uri": "https://localhost:8080/"
        },
        "id": "vaKoG6EoWe3-",
        "outputId": "ccab9767-89f0-4f82-d5f9-24742ae7aa86"
      },
      "outputs": [
        {
          "name": "stdout",
          "output_type": "stream",
          "text": [
            "Done\n"
          ]
        }
      ],
      "source": [
        "folder_path = \"/content/drive/MyDrive/train2\"\n",
        "files = os.listdir(folder_path)\n",
        "\n",
        "\n",
        "image_files = [f for f in files if f.lower().endswith(('.jpg', '.jpeg'))]\n",
        "\n",
        "for image_files in files:\n",
        "\n",
        "  image_file = os.path.join(folder_path, image_files)\n",
        "  for images in os.listdir(image_file):\n",
        "\n",
        "    image_path = os.path.join(image_file,images)\n",
        "    img = cv2.imread(image_path)\n",
        "\n",
        "    if img is not None:\n",
        "      get_features(img,image_files)\n",
        "\n",
        "    else:\n",
        "\n",
        "        os.remove(image_path)\n",
        "        print(f\"Removed image: {images}\")\n",
        "\n",
        "print(\"Done\")"
      ]
    },
    {
      "cell_type": "code",
      "execution_count": 19,
      "metadata": {
        "id": "fwgfIOTZ5vYX"
      },
      "outputs": [],
      "source": [
        "train_data=pd.read_csv('/content/drive/MyDrive/emotzy/coords.csv')"
      ]
    },
    {
      "cell_type": "code",
      "execution_count": 8,
      "metadata": {
        "colab": {
          "base_uri": "https://localhost:8080/",
          "height": 443
        },
        "id": "7EReNPhm9SSy",
        "outputId": "af7cb574-cb67-432e-8185-13571ce26940"
      },
      "outputs": [
        {
          "output_type": "execute_result",
          "data": {
            "text/plain": [
              "         class        x1        y1        z1        v1        x2        y2  \\\n",
              "0        happy  0.492909  0.662114 -3.659724  0.990151  0.607987  0.531422   \n",
              "1        happy  0.313209  0.622472 -1.178704  0.986437  0.407638  0.472854   \n",
              "2        happy  0.442466  0.582203 -5.133046  0.996571  0.586003  0.382704   \n",
              "3        happy  0.869222  0.539454 -3.847697  0.970989  0.833805  0.390993   \n",
              "4        happy  0.520912  0.659999 -4.219508  0.994786  0.650798  0.473899   \n",
              "...        ...       ...       ...       ...       ...       ...       ...   \n",
              "17373  neutral  0.493816  0.425756 -3.721504  0.998966  0.606281  0.267727   \n",
              "17374  neutral  0.582852  0.545912 -4.106605  0.987894  0.617231  0.357782   \n",
              "17375  neutral  0.531780  0.594599 -4.002100  0.997378  0.655306  0.427768   \n",
              "17376  neutral  0.498302  0.525411 -4.312698  0.997497  0.631327  0.364987   \n",
              "17377  neutral  0.543744  0.513263 -3.591013  0.997999  0.645690  0.367938   \n",
              "\n",
              "             z2        v2        x3  ...      z499  v499      x500      y500  \\\n",
              "0     -3.349121  0.989804  0.670933  ...  0.056232   0.0  0.793825  0.450982   \n",
              "1     -1.339919  0.982937  0.447537  ... -0.093205   0.0  0.458319  0.337455   \n",
              "2     -4.743922  0.995701  0.671132  ... -0.093512   0.0  0.773123  0.328896   \n",
              "3     -3.546384  0.969919  0.853021  ...  0.013462   0.0  0.868988  0.373121   \n",
              "4     -3.950647  0.994428  0.718831  ... -0.047257   0.0  0.770562  0.367130   \n",
              "...         ...       ...       ...  ...       ...   ...       ...       ...   \n",
              "17373 -3.461991  0.998474  0.668348  ... -0.049363   0.0  0.704070  0.211122   \n",
              "17374 -3.807307  0.987292  0.668714  ... -0.001381   0.0  0.747810  0.296525   \n",
              "17375 -3.577034  0.997103  0.722308  ...  0.012907   0.0  0.839224  0.416933   \n",
              "17376 -3.888967  0.996782  0.695289  ... -0.013845   0.0  0.725074  0.387485   \n",
              "17377 -3.254960  0.998000  0.700680  ... -0.034930   0.0  0.740005  0.390455   \n",
              "\n",
              "           z500  v500      x501      y501      z501  v501  \n",
              "0      0.171100   0.0  0.818195  0.431372  0.177744   0.0  \n",
              "1     -0.199201   0.0  0.486534  0.315427 -0.211165   0.0  \n",
              "2      0.016788   0.0  0.790714  0.305553  0.019681   0.0  \n",
              "3      0.142555   0.0  0.873220  0.362457  0.151584   0.0  \n",
              "4      0.028726   0.0  0.791377  0.352795  0.029906   0.0  \n",
              "...         ...   ...       ...       ...       ...   ...  \n",
              "17373 -0.011074   0.0  0.719263  0.193950 -0.012013   0.0  \n",
              "17374  0.157982   0.0  0.757459  0.270977  0.167714   0.0  \n",
              "17375  0.122473   0.0  0.865077  0.403635  0.125403   0.0  \n",
              "17376  0.083481   0.0  0.741406  0.374761  0.087025   0.0  \n",
              "17377  0.029175   0.0  0.755764  0.379253  0.029472   0.0  \n",
              "\n",
              "[17378 rows x 2005 columns]"
            ],
            "text/html": [
              "\n",
              "  <div id=\"df-794f0966-8775-42a0-a9a8-53046ec01e42\" class=\"colab-df-container\">\n",
              "    <div>\n",
              "<style scoped>\n",
              "    .dataframe tbody tr th:only-of-type {\n",
              "        vertical-align: middle;\n",
              "    }\n",
              "\n",
              "    .dataframe tbody tr th {\n",
              "        vertical-align: top;\n",
              "    }\n",
              "\n",
              "    .dataframe thead th {\n",
              "        text-align: right;\n",
              "    }\n",
              "</style>\n",
              "<table border=\"1\" class=\"dataframe\">\n",
              "  <thead>\n",
              "    <tr style=\"text-align: right;\">\n",
              "      <th></th>\n",
              "      <th>class</th>\n",
              "      <th>x1</th>\n",
              "      <th>y1</th>\n",
              "      <th>z1</th>\n",
              "      <th>v1</th>\n",
              "      <th>x2</th>\n",
              "      <th>y2</th>\n",
              "      <th>z2</th>\n",
              "      <th>v2</th>\n",
              "      <th>x3</th>\n",
              "      <th>...</th>\n",
              "      <th>z499</th>\n",
              "      <th>v499</th>\n",
              "      <th>x500</th>\n",
              "      <th>y500</th>\n",
              "      <th>z500</th>\n",
              "      <th>v500</th>\n",
              "      <th>x501</th>\n",
              "      <th>y501</th>\n",
              "      <th>z501</th>\n",
              "      <th>v501</th>\n",
              "    </tr>\n",
              "  </thead>\n",
              "  <tbody>\n",
              "    <tr>\n",
              "      <th>0</th>\n",
              "      <td>happy</td>\n",
              "      <td>0.492909</td>\n",
              "      <td>0.662114</td>\n",
              "      <td>-3.659724</td>\n",
              "      <td>0.990151</td>\n",
              "      <td>0.607987</td>\n",
              "      <td>0.531422</td>\n",
              "      <td>-3.349121</td>\n",
              "      <td>0.989804</td>\n",
              "      <td>0.670933</td>\n",
              "      <td>...</td>\n",
              "      <td>0.056232</td>\n",
              "      <td>0.0</td>\n",
              "      <td>0.793825</td>\n",
              "      <td>0.450982</td>\n",
              "      <td>0.171100</td>\n",
              "      <td>0.0</td>\n",
              "      <td>0.818195</td>\n",
              "      <td>0.431372</td>\n",
              "      <td>0.177744</td>\n",
              "      <td>0.0</td>\n",
              "    </tr>\n",
              "    <tr>\n",
              "      <th>1</th>\n",
              "      <td>happy</td>\n",
              "      <td>0.313209</td>\n",
              "      <td>0.622472</td>\n",
              "      <td>-1.178704</td>\n",
              "      <td>0.986437</td>\n",
              "      <td>0.407638</td>\n",
              "      <td>0.472854</td>\n",
              "      <td>-1.339919</td>\n",
              "      <td>0.982937</td>\n",
              "      <td>0.447537</td>\n",
              "      <td>...</td>\n",
              "      <td>-0.093205</td>\n",
              "      <td>0.0</td>\n",
              "      <td>0.458319</td>\n",
              "      <td>0.337455</td>\n",
              "      <td>-0.199201</td>\n",
              "      <td>0.0</td>\n",
              "      <td>0.486534</td>\n",
              "      <td>0.315427</td>\n",
              "      <td>-0.211165</td>\n",
              "      <td>0.0</td>\n",
              "    </tr>\n",
              "    <tr>\n",
              "      <th>2</th>\n",
              "      <td>happy</td>\n",
              "      <td>0.442466</td>\n",
              "      <td>0.582203</td>\n",
              "      <td>-5.133046</td>\n",
              "      <td>0.996571</td>\n",
              "      <td>0.586003</td>\n",
              "      <td>0.382704</td>\n",
              "      <td>-4.743922</td>\n",
              "      <td>0.995701</td>\n",
              "      <td>0.671132</td>\n",
              "      <td>...</td>\n",
              "      <td>-0.093512</td>\n",
              "      <td>0.0</td>\n",
              "      <td>0.773123</td>\n",
              "      <td>0.328896</td>\n",
              "      <td>0.016788</td>\n",
              "      <td>0.0</td>\n",
              "      <td>0.790714</td>\n",
              "      <td>0.305553</td>\n",
              "      <td>0.019681</td>\n",
              "      <td>0.0</td>\n",
              "    </tr>\n",
              "    <tr>\n",
              "      <th>3</th>\n",
              "      <td>happy</td>\n",
              "      <td>0.869222</td>\n",
              "      <td>0.539454</td>\n",
              "      <td>-3.847697</td>\n",
              "      <td>0.970989</td>\n",
              "      <td>0.833805</td>\n",
              "      <td>0.390993</td>\n",
              "      <td>-3.546384</td>\n",
              "      <td>0.969919</td>\n",
              "      <td>0.853021</td>\n",
              "      <td>...</td>\n",
              "      <td>0.013462</td>\n",
              "      <td>0.0</td>\n",
              "      <td>0.868988</td>\n",
              "      <td>0.373121</td>\n",
              "      <td>0.142555</td>\n",
              "      <td>0.0</td>\n",
              "      <td>0.873220</td>\n",
              "      <td>0.362457</td>\n",
              "      <td>0.151584</td>\n",
              "      <td>0.0</td>\n",
              "    </tr>\n",
              "    <tr>\n",
              "      <th>4</th>\n",
              "      <td>happy</td>\n",
              "      <td>0.520912</td>\n",
              "      <td>0.659999</td>\n",
              "      <td>-4.219508</td>\n",
              "      <td>0.994786</td>\n",
              "      <td>0.650798</td>\n",
              "      <td>0.473899</td>\n",
              "      <td>-3.950647</td>\n",
              "      <td>0.994428</td>\n",
              "      <td>0.718831</td>\n",
              "      <td>...</td>\n",
              "      <td>-0.047257</td>\n",
              "      <td>0.0</td>\n",
              "      <td>0.770562</td>\n",
              "      <td>0.367130</td>\n",
              "      <td>0.028726</td>\n",
              "      <td>0.0</td>\n",
              "      <td>0.791377</td>\n",
              "      <td>0.352795</td>\n",
              "      <td>0.029906</td>\n",
              "      <td>0.0</td>\n",
              "    </tr>\n",
              "    <tr>\n",
              "      <th>...</th>\n",
              "      <td>...</td>\n",
              "      <td>...</td>\n",
              "      <td>...</td>\n",
              "      <td>...</td>\n",
              "      <td>...</td>\n",
              "      <td>...</td>\n",
              "      <td>...</td>\n",
              "      <td>...</td>\n",
              "      <td>...</td>\n",
              "      <td>...</td>\n",
              "      <td>...</td>\n",
              "      <td>...</td>\n",
              "      <td>...</td>\n",
              "      <td>...</td>\n",
              "      <td>...</td>\n",
              "      <td>...</td>\n",
              "      <td>...</td>\n",
              "      <td>...</td>\n",
              "      <td>...</td>\n",
              "      <td>...</td>\n",
              "      <td>...</td>\n",
              "    </tr>\n",
              "    <tr>\n",
              "      <th>17373</th>\n",
              "      <td>neutral</td>\n",
              "      <td>0.493816</td>\n",
              "      <td>0.425756</td>\n",
              "      <td>-3.721504</td>\n",
              "      <td>0.998966</td>\n",
              "      <td>0.606281</td>\n",
              "      <td>0.267727</td>\n",
              "      <td>-3.461991</td>\n",
              "      <td>0.998474</td>\n",
              "      <td>0.668348</td>\n",
              "      <td>...</td>\n",
              "      <td>-0.049363</td>\n",
              "      <td>0.0</td>\n",
              "      <td>0.704070</td>\n",
              "      <td>0.211122</td>\n",
              "      <td>-0.011074</td>\n",
              "      <td>0.0</td>\n",
              "      <td>0.719263</td>\n",
              "      <td>0.193950</td>\n",
              "      <td>-0.012013</td>\n",
              "      <td>0.0</td>\n",
              "    </tr>\n",
              "    <tr>\n",
              "      <th>17374</th>\n",
              "      <td>neutral</td>\n",
              "      <td>0.582852</td>\n",
              "      <td>0.545912</td>\n",
              "      <td>-4.106605</td>\n",
              "      <td>0.987894</td>\n",
              "      <td>0.617231</td>\n",
              "      <td>0.357782</td>\n",
              "      <td>-3.807307</td>\n",
              "      <td>0.987292</td>\n",
              "      <td>0.668714</td>\n",
              "      <td>...</td>\n",
              "      <td>-0.001381</td>\n",
              "      <td>0.0</td>\n",
              "      <td>0.747810</td>\n",
              "      <td>0.296525</td>\n",
              "      <td>0.157982</td>\n",
              "      <td>0.0</td>\n",
              "      <td>0.757459</td>\n",
              "      <td>0.270977</td>\n",
              "      <td>0.167714</td>\n",
              "      <td>0.0</td>\n",
              "    </tr>\n",
              "    <tr>\n",
              "      <th>17375</th>\n",
              "      <td>neutral</td>\n",
              "      <td>0.531780</td>\n",
              "      <td>0.594599</td>\n",
              "      <td>-4.002100</td>\n",
              "      <td>0.997378</td>\n",
              "      <td>0.655306</td>\n",
              "      <td>0.427768</td>\n",
              "      <td>-3.577034</td>\n",
              "      <td>0.997103</td>\n",
              "      <td>0.722308</td>\n",
              "      <td>...</td>\n",
              "      <td>0.012907</td>\n",
              "      <td>0.0</td>\n",
              "      <td>0.839224</td>\n",
              "      <td>0.416933</td>\n",
              "      <td>0.122473</td>\n",
              "      <td>0.0</td>\n",
              "      <td>0.865077</td>\n",
              "      <td>0.403635</td>\n",
              "      <td>0.125403</td>\n",
              "      <td>0.0</td>\n",
              "    </tr>\n",
              "    <tr>\n",
              "      <th>17376</th>\n",
              "      <td>neutral</td>\n",
              "      <td>0.498302</td>\n",
              "      <td>0.525411</td>\n",
              "      <td>-4.312698</td>\n",
              "      <td>0.997497</td>\n",
              "      <td>0.631327</td>\n",
              "      <td>0.364987</td>\n",
              "      <td>-3.888967</td>\n",
              "      <td>0.996782</td>\n",
              "      <td>0.695289</td>\n",
              "      <td>...</td>\n",
              "      <td>-0.013845</td>\n",
              "      <td>0.0</td>\n",
              "      <td>0.725074</td>\n",
              "      <td>0.387485</td>\n",
              "      <td>0.083481</td>\n",
              "      <td>0.0</td>\n",
              "      <td>0.741406</td>\n",
              "      <td>0.374761</td>\n",
              "      <td>0.087025</td>\n",
              "      <td>0.0</td>\n",
              "    </tr>\n",
              "    <tr>\n",
              "      <th>17377</th>\n",
              "      <td>neutral</td>\n",
              "      <td>0.543744</td>\n",
              "      <td>0.513263</td>\n",
              "      <td>-3.591013</td>\n",
              "      <td>0.997999</td>\n",
              "      <td>0.645690</td>\n",
              "      <td>0.367938</td>\n",
              "      <td>-3.254960</td>\n",
              "      <td>0.998000</td>\n",
              "      <td>0.700680</td>\n",
              "      <td>...</td>\n",
              "      <td>-0.034930</td>\n",
              "      <td>0.0</td>\n",
              "      <td>0.740005</td>\n",
              "      <td>0.390455</td>\n",
              "      <td>0.029175</td>\n",
              "      <td>0.0</td>\n",
              "      <td>0.755764</td>\n",
              "      <td>0.379253</td>\n",
              "      <td>0.029472</td>\n",
              "      <td>0.0</td>\n",
              "    </tr>\n",
              "  </tbody>\n",
              "</table>\n",
              "<p>17378 rows × 2005 columns</p>\n",
              "</div>\n",
              "    <div class=\"colab-df-buttons\">\n",
              "\n",
              "  <div class=\"colab-df-container\">\n",
              "    <button class=\"colab-df-convert\" onclick=\"convertToInteractive('df-794f0966-8775-42a0-a9a8-53046ec01e42')\"\n",
              "            title=\"Convert this dataframe to an interactive table.\"\n",
              "            style=\"display:none;\">\n",
              "\n",
              "  <svg xmlns=\"http://www.w3.org/2000/svg\" height=\"24px\" viewBox=\"0 -960 960 960\">\n",
              "    <path d=\"M120-120v-720h720v720H120Zm60-500h600v-160H180v160Zm220 220h160v-160H400v160Zm0 220h160v-160H400v160ZM180-400h160v-160H180v160Zm440 0h160v-160H620v160ZM180-180h160v-160H180v160Zm440 0h160v-160H620v160Z\"/>\n",
              "  </svg>\n",
              "    </button>\n",
              "\n",
              "  <style>\n",
              "    .colab-df-container {\n",
              "      display:flex;\n",
              "      gap: 12px;\n",
              "    }\n",
              "\n",
              "    .colab-df-convert {\n",
              "      background-color: #E8F0FE;\n",
              "      border: none;\n",
              "      border-radius: 50%;\n",
              "      cursor: pointer;\n",
              "      display: none;\n",
              "      fill: #1967D2;\n",
              "      height: 32px;\n",
              "      padding: 0 0 0 0;\n",
              "      width: 32px;\n",
              "    }\n",
              "\n",
              "    .colab-df-convert:hover {\n",
              "      background-color: #E2EBFA;\n",
              "      box-shadow: 0px 1px 2px rgba(60, 64, 67, 0.3), 0px 1px 3px 1px rgba(60, 64, 67, 0.15);\n",
              "      fill: #174EA6;\n",
              "    }\n",
              "\n",
              "    .colab-df-buttons div {\n",
              "      margin-bottom: 4px;\n",
              "    }\n",
              "\n",
              "    [theme=dark] .colab-df-convert {\n",
              "      background-color: #3B4455;\n",
              "      fill: #D2E3FC;\n",
              "    }\n",
              "\n",
              "    [theme=dark] .colab-df-convert:hover {\n",
              "      background-color: #434B5C;\n",
              "      box-shadow: 0px 1px 3px 1px rgba(0, 0, 0, 0.15);\n",
              "      filter: drop-shadow(0px 1px 2px rgba(0, 0, 0, 0.3));\n",
              "      fill: #FFFFFF;\n",
              "    }\n",
              "  </style>\n",
              "\n",
              "    <script>\n",
              "      const buttonEl =\n",
              "        document.querySelector('#df-794f0966-8775-42a0-a9a8-53046ec01e42 button.colab-df-convert');\n",
              "      buttonEl.style.display =\n",
              "        google.colab.kernel.accessAllowed ? 'block' : 'none';\n",
              "\n",
              "      async function convertToInteractive(key) {\n",
              "        const element = document.querySelector('#df-794f0966-8775-42a0-a9a8-53046ec01e42');\n",
              "        const dataTable =\n",
              "          await google.colab.kernel.invokeFunction('convertToInteractive',\n",
              "                                                    [key], {});\n",
              "        if (!dataTable) return;\n",
              "\n",
              "        const docLinkHtml = 'Like what you see? Visit the ' +\n",
              "          '<a target=\"_blank\" href=https://colab.research.google.com/notebooks/data_table.ipynb>data table notebook</a>'\n",
              "          + ' to learn more about interactive tables.';\n",
              "        element.innerHTML = '';\n",
              "        dataTable['output_type'] = 'display_data';\n",
              "        await google.colab.output.renderOutput(dataTable, element);\n",
              "        const docLink = document.createElement('div');\n",
              "        docLink.innerHTML = docLinkHtml;\n",
              "        element.appendChild(docLink);\n",
              "      }\n",
              "    </script>\n",
              "  </div>\n",
              "\n",
              "\n",
              "<div id=\"df-8ca11fb3-b5ad-47f4-b4f9-1ffb6826bd56\">\n",
              "  <button class=\"colab-df-quickchart\" onclick=\"quickchart('df-8ca11fb3-b5ad-47f4-b4f9-1ffb6826bd56')\"\n",
              "            title=\"Suggest charts\"\n",
              "            style=\"display:none;\">\n",
              "\n",
              "<svg xmlns=\"http://www.w3.org/2000/svg\" height=\"24px\"viewBox=\"0 0 24 24\"\n",
              "     width=\"24px\">\n",
              "    <g>\n",
              "        <path d=\"M19 3H5c-1.1 0-2 .9-2 2v14c0 1.1.9 2 2 2h14c1.1 0 2-.9 2-2V5c0-1.1-.9-2-2-2zM9 17H7v-7h2v7zm4 0h-2V7h2v10zm4 0h-2v-4h2v4z\"/>\n",
              "    </g>\n",
              "</svg>\n",
              "  </button>\n",
              "\n",
              "<style>\n",
              "  .colab-df-quickchart {\n",
              "      --bg-color: #E8F0FE;\n",
              "      --fill-color: #1967D2;\n",
              "      --hover-bg-color: #E2EBFA;\n",
              "      --hover-fill-color: #174EA6;\n",
              "      --disabled-fill-color: #AAA;\n",
              "      --disabled-bg-color: #DDD;\n",
              "  }\n",
              "\n",
              "  [theme=dark] .colab-df-quickchart {\n",
              "      --bg-color: #3B4455;\n",
              "      --fill-color: #D2E3FC;\n",
              "      --hover-bg-color: #434B5C;\n",
              "      --hover-fill-color: #FFFFFF;\n",
              "      --disabled-bg-color: #3B4455;\n",
              "      --disabled-fill-color: #666;\n",
              "  }\n",
              "\n",
              "  .colab-df-quickchart {\n",
              "    background-color: var(--bg-color);\n",
              "    border: none;\n",
              "    border-radius: 50%;\n",
              "    cursor: pointer;\n",
              "    display: none;\n",
              "    fill: var(--fill-color);\n",
              "    height: 32px;\n",
              "    padding: 0;\n",
              "    width: 32px;\n",
              "  }\n",
              "\n",
              "  .colab-df-quickchart:hover {\n",
              "    background-color: var(--hover-bg-color);\n",
              "    box-shadow: 0 1px 2px rgba(60, 64, 67, 0.3), 0 1px 3px 1px rgba(60, 64, 67, 0.15);\n",
              "    fill: var(--button-hover-fill-color);\n",
              "  }\n",
              "\n",
              "  .colab-df-quickchart-complete:disabled,\n",
              "  .colab-df-quickchart-complete:disabled:hover {\n",
              "    background-color: var(--disabled-bg-color);\n",
              "    fill: var(--disabled-fill-color);\n",
              "    box-shadow: none;\n",
              "  }\n",
              "\n",
              "  .colab-df-spinner {\n",
              "    border: 2px solid var(--fill-color);\n",
              "    border-color: transparent;\n",
              "    border-bottom-color: var(--fill-color);\n",
              "    animation:\n",
              "      spin 1s steps(1) infinite;\n",
              "  }\n",
              "\n",
              "  @keyframes spin {\n",
              "    0% {\n",
              "      border-color: transparent;\n",
              "      border-bottom-color: var(--fill-color);\n",
              "      border-left-color: var(--fill-color);\n",
              "    }\n",
              "    20% {\n",
              "      border-color: transparent;\n",
              "      border-left-color: var(--fill-color);\n",
              "      border-top-color: var(--fill-color);\n",
              "    }\n",
              "    30% {\n",
              "      border-color: transparent;\n",
              "      border-left-color: var(--fill-color);\n",
              "      border-top-color: var(--fill-color);\n",
              "      border-right-color: var(--fill-color);\n",
              "    }\n",
              "    40% {\n",
              "      border-color: transparent;\n",
              "      border-right-color: var(--fill-color);\n",
              "      border-top-color: var(--fill-color);\n",
              "    }\n",
              "    60% {\n",
              "      border-color: transparent;\n",
              "      border-right-color: var(--fill-color);\n",
              "    }\n",
              "    80% {\n",
              "      border-color: transparent;\n",
              "      border-right-color: var(--fill-color);\n",
              "      border-bottom-color: var(--fill-color);\n",
              "    }\n",
              "    90% {\n",
              "      border-color: transparent;\n",
              "      border-bottom-color: var(--fill-color);\n",
              "    }\n",
              "  }\n",
              "</style>\n",
              "\n",
              "  <script>\n",
              "    async function quickchart(key) {\n",
              "      const quickchartButtonEl =\n",
              "        document.querySelector('#' + key + ' button');\n",
              "      quickchartButtonEl.disabled = true;  // To prevent multiple clicks.\n",
              "      quickchartButtonEl.classList.add('colab-df-spinner');\n",
              "      try {\n",
              "        const charts = await google.colab.kernel.invokeFunction(\n",
              "            'suggestCharts', [key], {});\n",
              "      } catch (error) {\n",
              "        console.error('Error during call to suggestCharts:', error);\n",
              "      }\n",
              "      quickchartButtonEl.classList.remove('colab-df-spinner');\n",
              "      quickchartButtonEl.classList.add('colab-df-quickchart-complete');\n",
              "    }\n",
              "    (() => {\n",
              "      let quickchartButtonEl =\n",
              "        document.querySelector('#df-8ca11fb3-b5ad-47f4-b4f9-1ffb6826bd56 button');\n",
              "      quickchartButtonEl.style.display =\n",
              "        google.colab.kernel.accessAllowed ? 'block' : 'none';\n",
              "    })();\n",
              "  </script>\n",
              "</div>\n",
              "\n",
              "  <div id=\"id_1ffe5ce1-db61-44b1-ae20-95d7d4ea84e0\">\n",
              "    <style>\n",
              "      .colab-df-generate {\n",
              "        background-color: #E8F0FE;\n",
              "        border: none;\n",
              "        border-radius: 50%;\n",
              "        cursor: pointer;\n",
              "        display: none;\n",
              "        fill: #1967D2;\n",
              "        height: 32px;\n",
              "        padding: 0 0 0 0;\n",
              "        width: 32px;\n",
              "      }\n",
              "\n",
              "      .colab-df-generate:hover {\n",
              "        background-color: #E2EBFA;\n",
              "        box-shadow: 0px 1px 2px rgba(60, 64, 67, 0.3), 0px 1px 3px 1px rgba(60, 64, 67, 0.15);\n",
              "        fill: #174EA6;\n",
              "      }\n",
              "\n",
              "      [theme=dark] .colab-df-generate {\n",
              "        background-color: #3B4455;\n",
              "        fill: #D2E3FC;\n",
              "      }\n",
              "\n",
              "      [theme=dark] .colab-df-generate:hover {\n",
              "        background-color: #434B5C;\n",
              "        box-shadow: 0px 1px 3px 1px rgba(0, 0, 0, 0.15);\n",
              "        filter: drop-shadow(0px 1px 2px rgba(0, 0, 0, 0.3));\n",
              "        fill: #FFFFFF;\n",
              "      }\n",
              "    </style>\n",
              "    <button class=\"colab-df-generate\" onclick=\"generateWithVariable('train_data')\"\n",
              "            title=\"Generate code using this dataframe.\"\n",
              "            style=\"display:none;\">\n",
              "\n",
              "  <svg xmlns=\"http://www.w3.org/2000/svg\" height=\"24px\"viewBox=\"0 0 24 24\"\n",
              "       width=\"24px\">\n",
              "    <path d=\"M7,19H8.4L18.45,9,17,7.55,7,17.6ZM5,21V16.75L18.45,3.32a2,2,0,0,1,2.83,0l1.4,1.43a1.91,1.91,0,0,1,.58,1.4,1.91,1.91,0,0,1-.58,1.4L9.25,21ZM18.45,9,17,7.55Zm-12,3A5.31,5.31,0,0,0,4.9,8.1,5.31,5.31,0,0,0,1,6.5,5.31,5.31,0,0,0,4.9,4.9,5.31,5.31,0,0,0,6.5,1,5.31,5.31,0,0,0,8.1,4.9,5.31,5.31,0,0,0,12,6.5,5.46,5.46,0,0,0,6.5,12Z\"/>\n",
              "  </svg>\n",
              "    </button>\n",
              "    <script>\n",
              "      (() => {\n",
              "      const buttonEl =\n",
              "        document.querySelector('#id_1ffe5ce1-db61-44b1-ae20-95d7d4ea84e0 button.colab-df-generate');\n",
              "      buttonEl.style.display =\n",
              "        google.colab.kernel.accessAllowed ? 'block' : 'none';\n",
              "\n",
              "      buttonEl.onclick = () => {\n",
              "        google.colab.notebook.generateWithVariable('train_data');\n",
              "      }\n",
              "      })();\n",
              "    </script>\n",
              "  </div>\n",
              "\n",
              "    </div>\n",
              "  </div>\n"
            ],
            "application/vnd.google.colaboratory.intrinsic+json": {
              "type": "dataframe",
              "variable_name": "train_data"
            }
          },
          "metadata": {},
          "execution_count": 8
        }
      ],
      "source": [
        "train_data"
      ]
    },
    {
      "cell_type": "code",
      "execution_count": null,
      "metadata": {
        "colab": {
          "base_uri": "https://localhost:8080/"
        },
        "id": "4hmmLTzGnoeo",
        "outputId": "e0084473-80ab-4552-e3e2-cbdc75e7bd6f"
      },
      "outputs": [
        {
          "data": {
            "text/plain": [
              "class\n",
              "happy      6364\n",
              "neutral    4236\n",
              "sad        3496\n",
              "angry      3282\n",
              "Name: count, dtype: int64"
            ]
          },
          "execution_count": 14,
          "metadata": {},
          "output_type": "execute_result"
        }
      ],
      "source": [
        "train_data['class'].value_counts()"
      ]
    },
    {
      "cell_type": "code",
      "execution_count": 39,
      "metadata": {
        "id": "ETqIHWqImv2C"
      },
      "outputs": [],
      "source": [
        "X_train = train_data.drop('class', axis=1)\n",
        "y_train = train_data['class']"
      ]
    },
    {
      "cell_type": "code",
      "execution_count": 26,
      "metadata": {
        "id": "0uWuPmcPlZwL"
      },
      "outputs": [],
      "source": [
        "with open('coords1.csv', mode='w', newline='') as f:\n",
        "    csv_writer = csv.writer(f, delimiter=',', quotechar='\"', quoting=csv.QUOTE_MINIMAL)\n",
        "    csv_writer.writerow(landmarks)"
      ]
    },
    {
      "cell_type": "code",
      "execution_count": 27,
      "metadata": {
        "id": "KhyNdyVjldZF"
      },
      "outputs": [],
      "source": [
        "def get_features1(frame,class_name):\n",
        "  with mp_holistic.Holistic(min_detection_confidence=0.5, min_tracking_confidence=0.5) as holistic:\n",
        "\n",
        "    image = cv2.cvtColor(frame, cv2.COLOR_BGR2RGB)\n",
        "    image.flags.writeable = False\n",
        "\n",
        "    results = holistic.process(image)\n",
        "\n",
        "    image.flags.writeable = True\n",
        "    image = cv2.cvtColor(image, cv2.COLOR_RGB2BGR)\n",
        "\n",
        "    mp_drawing.draw_landmarks(image, results.face_landmarks, mp_holistic.FACEMESH_TESSELATION,\n",
        "                            mp_drawing.DrawingSpec(color=(80,110,10), thickness=1, circle_radius=1),\n",
        "                            mp_drawing.DrawingSpec(color=(80,256,121), thickness=1, circle_radius=1))\n",
        "\n",
        "    mp_drawing.draw_landmarks(image, results.right_hand_landmarks, mp_holistic.HAND_CONNECTIONS,\n",
        "                              mp_drawing.DrawingSpec(color=(80,22,10), thickness=2, circle_radius=4),\n",
        "                              mp_drawing.DrawingSpec(color=(80,44,121), thickness=2, circle_radius=2))\n",
        "\n",
        "    mp_drawing.draw_landmarks(image, results.left_hand_landmarks, mp_holistic.HAND_CONNECTIONS,\n",
        "                              mp_drawing.DrawingSpec(color=(121,22,76), thickness=2, circle_radius=4),\n",
        "                              mp_drawing.DrawingSpec(color=(121,44,250), thickness=2, circle_radius=2))\n",
        "\n",
        "    mp_drawing.draw_landmarks(image, results.pose_landmarks, mp_holistic.POSE_CONNECTIONS,\n",
        "                              mp_drawing.DrawingSpec(color=(245,117,66), thickness=2, circle_radius=4),\n",
        "                              mp_drawing.DrawingSpec(color=(245,66,230), thickness=2, circle_radius=2))\n",
        "    try:\n",
        "\n",
        "      pose = results.pose_landmarks.landmark\n",
        "      pose_row = list(np.array([[landmark.x, landmark.y, landmark.z, landmark.visibility] for landmark in pose]).flatten())\n",
        "\n",
        "      face = results.face_landmarks.landmark\n",
        "      face_row = list(np.array([[landmark.x, landmark.y, landmark.z, landmark.visibility] for landmark in face]).flatten())\n",
        "\n",
        "      row = pose_row + face_row\n",
        "\n",
        "      row.insert(0, class_name)\n",
        "\n",
        "      with open('coords1.csv', mode='a', newline='') as f:\n",
        "          csv_writer = csv.writer(f, delimiter=',', quotechar='\"', quoting=csv.QUOTE_MINIMAL)\n",
        "          csv_writer.writerow(row)\n",
        "\n",
        "    except:\n",
        "        pass\n",
        "\n",
        "\n",
        "  cv2.destroyAllWindows()"
      ]
    },
    {
      "cell_type": "code",
      "execution_count": 28,
      "metadata": {
        "colab": {
          "base_uri": "https://localhost:8080/"
        },
        "id": "vrL1K98Elh35",
        "outputId": "162346db-604e-4307-b562-c9b9ec18ddbd"
      },
      "outputs": [
        {
          "output_type": "stream",
          "name": "stdout",
          "text": [
            "Done\n"
          ]
        }
      ],
      "source": [
        "folder_path = \"/content/drive/MyDrive/emotzy/test1\"\n",
        "files = os.listdir(folder_path)\n",
        "\n",
        "image_files = [f for f in files if f.lower().endswith(('.jpg', '.jpeg'))]\n",
        "for image_files in files:\n",
        "  image_file = os.path.join(folder_path, image_files)\n",
        "  for images in os.listdir(image_file):\n",
        "    image_path = os.path.join(image_file,images)\n",
        "    img = cv2.imread(image_path)\n",
        "    if img is not None:\n",
        "      get_features1(img,image_files)\n",
        "    else:\n",
        "        os.remove(image_path)\n",
        "        print(f\"Removed image: {images}\")\n",
        "\n",
        "print(\"Done\")"
      ]
    },
    {
      "cell_type": "code",
      "execution_count": 21,
      "metadata": {
        "id": "I2Xd-ZEelqYy"
      },
      "outputs": [],
      "source": [
        "test_data=pd.read_csv('/content/drive/MyDrive/emotzy/coords1.csv')"
      ]
    },
    {
      "cell_type": "code",
      "execution_count": 30,
      "metadata": {
        "colab": {
          "base_uri": "https://localhost:8080/"
        },
        "id": "bexxGxd3nzcn",
        "outputId": "d5796156-3df1-4337-9b6b-6e36b16a1dac"
      },
      "outputs": [
        {
          "output_type": "execute_result",
          "data": {
            "text/plain": [
              "class\n",
              "happy      1559\n",
              "neutral    1049\n",
              "sad         912\n",
              "angry       773\n",
              "Name: count, dtype: int64"
            ]
          },
          "metadata": {},
          "execution_count": 30
        }
      ],
      "source": [
        "test_data['class'].value_counts()"
      ]
    },
    {
      "cell_type": "code",
      "execution_count": 40,
      "metadata": {
        "id": "1myRy4cXly9u"
      },
      "outputs": [],
      "source": [
        "X_test = test_data.drop('class', axis=1) # features\n",
        "y_test = test_data['class']"
      ]
    },
    {
      "cell_type": "code",
      "execution_count": 7,
      "metadata": {
        "id": "SUdnhsGLjrUk"
      },
      "outputs": [],
      "source": [
        "from sklearn.pipeline import make_pipeline\n",
        "from sklearn.preprocessing import StandardScaler,  MinMaxScaler\n",
        "from sklearn.naive_bayes import GaussianNB\n",
        "from sklearn.linear_model import LogisticRegression, RidgeClassifier\n",
        "from sklearn.ensemble import RandomForestClassifier, GradientBoostingClassifier\n",
        "from sklearn.feature_selection import mutual_info_classif"
      ]
    },
    {
      "cell_type": "code",
      "execution_count": 8,
      "metadata": {
        "id": "1Eb9gv_yj4wu"
      },
      "outputs": [],
      "source": [
        "log_model = LogisticRegression(solver='lbfgs', max_iter=2000,n_jobs=-1)\n",
        "pipelines = {\n",
        "    'lr':make_pipeline(MinMaxScaler(), log_model),\n",
        "    'rf':make_pipeline(StandardScaler(), RandomForestClassifier(n_jobs=-1)),}"
      ]
    },
    {
      "cell_type": "code",
      "source": [
        "mi=mutual_info_classif(X_train, y_train)\n",
        "ig_dict={}\n",
        "for i in range(len(X_train.columns.to_list())):\n",
        "  ig_dict[(X_train.columns.to_list())[i]]=mi[i]\n",
        "ig_dict_sorted = dict(sorted(ig_dict.items(), key=lambda item: item[1], reverse=True))\n",
        "selected_features = list(ig_dict_sorted.keys())[:900]"
      ],
      "metadata": {
        "id": "2WAwcx_Zpx7I"
      },
      "execution_count": 84,
      "outputs": []
    },
    {
      "cell_type": "code",
      "execution_count": 85,
      "metadata": {
        "colab": {
          "base_uri": "https://localhost:8080/"
        },
        "id": "FT-T7opAj9dV",
        "outputId": "b12e6690-184f-49ea-cd24-282dbc622769"
      },
      "outputs": [
        {
          "output_type": "stream",
          "name": "stderr",
          "text": [
            "/usr/local/lib/python3.10/dist-packages/joblib/externals/loky/backend/fork_exec.py:38: RuntimeWarning: os.fork() was called. os.fork() is incompatible with multithreaded code, and JAX is multithreaded, so this will likely lead to a deadlock.\n",
            "  pid = os.fork()\n"
          ]
        }
      ],
      "source": [
        "fit_models = {}\n",
        "for algo, pipeline in pipelines.items():\n",
        "    model = pipeline.fit(X_train[selected_features], y_train)\n",
        "    fit_models[algo] = model"
      ]
    },
    {
      "cell_type": "code",
      "execution_count": 86,
      "metadata": {
        "colab": {
          "base_uri": "https://localhost:8080/"
        },
        "id": "Srb58rJYkBrB",
        "outputId": "452ae3c9-71ef-43c9-a237-d3b69c92851f"
      },
      "outputs": [
        {
          "output_type": "execute_result",
          "data": {
            "text/plain": [
              "{'lr': Pipeline(steps=[('minmaxscaler', MinMaxScaler()),\n",
              "                 ('logisticregression',\n",
              "                  LogisticRegression(max_iter=2000, n_jobs=-1))]),\n",
              " 'rf': Pipeline(steps=[('standardscaler', StandardScaler()),\n",
              "                 ('randomforestclassifier', RandomForestClassifier(n_jobs=-1))])}"
            ]
          },
          "metadata": {},
          "execution_count": 86
        }
      ],
      "source": [
        "fit_models"
      ]
    },
    {
      "cell_type": "code",
      "execution_count": 87,
      "metadata": {
        "colab": {
          "base_uri": "https://localhost:8080/"
        },
        "id": "uSvkF6MYker9",
        "outputId": "2319eae5-aa42-4ae5-dc15-889167d79a95"
      },
      "outputs": [
        {
          "output_type": "stream",
          "name": "stdout",
          "text": [
            "model- lr accuracy- 0.6212438853948288 precison- 62.12438853948288 recall 62.12438853948288\n",
            "model- rf accuracy- 0.6044723969252271 precison- 60.447239692522714 recall 60.447239692522714\n"
          ]
        }
      ],
      "source": [
        "for algo, model in fit_models.items():\n",
        "    yhat = model.predict(X_test[selected_features])\n",
        "    print('model-',algo,'accuracy-', accuracy_score(y_test, yhat) ,'precison-', precision_score(y_test,yhat,average=\"micro\")*100 ,'recall', recall_score(y_test,yhat,average=\"micro\")*100 )"
      ]
    },
    {
      "cell_type": "code",
      "execution_count": null,
      "metadata": {
        "id": "3XtGn6-ok27V"
      },
      "outputs": [],
      "source": [
        "with open('emotion.pkl', 'wb') as f:\n",
        "    pickle.dump(fit_models['rf'], f)"
      ]
    },
    {
      "cell_type": "code",
      "execution_count": null,
      "metadata": {
        "id": "ia0JEeslkfCe"
      },
      "outputs": [],
      "source": [
        "with open('emotion.pkl', 'rb') as f:\n",
        "    model1 = pickle.load(f)"
      ]
    },
    {
      "cell_type": "code",
      "execution_count": null,
      "metadata": {
        "colab": {
          "base_uri": "https://localhost:8080/",
          "height": 125
        },
        "id": "Qk8jAzjhk4k-",
        "outputId": "94941908-4315-47f7-9599-6d5935a962a5"
      },
      "outputs": [
        {
          "data": {
            "text/html": [
              "<style>#sk-container-id-1 {color: black;background-color: white;}#sk-container-id-1 pre{padding: 0;}#sk-container-id-1 div.sk-toggleable {background-color: white;}#sk-container-id-1 label.sk-toggleable__label {cursor: pointer;display: block;width: 100%;margin-bottom: 0;padding: 0.3em;box-sizing: border-box;text-align: center;}#sk-container-id-1 label.sk-toggleable__label-arrow:before {content: \"▸\";float: left;margin-right: 0.25em;color: #696969;}#sk-container-id-1 label.sk-toggleable__label-arrow:hover:before {color: black;}#sk-container-id-1 div.sk-estimator:hover label.sk-toggleable__label-arrow:before {color: black;}#sk-container-id-1 div.sk-toggleable__content {max-height: 0;max-width: 0;overflow: hidden;text-align: left;background-color: #f0f8ff;}#sk-container-id-1 div.sk-toggleable__content pre {margin: 0.2em;color: black;border-radius: 0.25em;background-color: #f0f8ff;}#sk-container-id-1 input.sk-toggleable__control:checked~div.sk-toggleable__content {max-height: 200px;max-width: 100%;overflow: auto;}#sk-container-id-1 input.sk-toggleable__control:checked~label.sk-toggleable__label-arrow:before {content: \"▾\";}#sk-container-id-1 div.sk-estimator input.sk-toggleable__control:checked~label.sk-toggleable__label {background-color: #d4ebff;}#sk-container-id-1 div.sk-label input.sk-toggleable__control:checked~label.sk-toggleable__label {background-color: #d4ebff;}#sk-container-id-1 input.sk-hidden--visually {border: 0;clip: rect(1px 1px 1px 1px);clip: rect(1px, 1px, 1px, 1px);height: 1px;margin: -1px;overflow: hidden;padding: 0;position: absolute;width: 1px;}#sk-container-id-1 div.sk-estimator {font-family: monospace;background-color: #f0f8ff;border: 1px dotted black;border-radius: 0.25em;box-sizing: border-box;margin-bottom: 0.5em;}#sk-container-id-1 div.sk-estimator:hover {background-color: #d4ebff;}#sk-container-id-1 div.sk-parallel-item::after {content: \"\";width: 100%;border-bottom: 1px solid gray;flex-grow: 1;}#sk-container-id-1 div.sk-label:hover label.sk-toggleable__label {background-color: #d4ebff;}#sk-container-id-1 div.sk-serial::before {content: \"\";position: absolute;border-left: 1px solid gray;box-sizing: border-box;top: 0;bottom: 0;left: 50%;z-index: 0;}#sk-container-id-1 div.sk-serial {display: flex;flex-direction: column;align-items: center;background-color: white;padding-right: 0.2em;padding-left: 0.2em;position: relative;}#sk-container-id-1 div.sk-item {position: relative;z-index: 1;}#sk-container-id-1 div.sk-parallel {display: flex;align-items: stretch;justify-content: center;background-color: white;position: relative;}#sk-container-id-1 div.sk-item::before, #sk-container-id-1 div.sk-parallel-item::before {content: \"\";position: absolute;border-left: 1px solid gray;box-sizing: border-box;top: 0;bottom: 0;left: 50%;z-index: -1;}#sk-container-id-1 div.sk-parallel-item {display: flex;flex-direction: column;z-index: 1;position: relative;background-color: white;}#sk-container-id-1 div.sk-parallel-item:first-child::after {align-self: flex-end;width: 50%;}#sk-container-id-1 div.sk-parallel-item:last-child::after {align-self: flex-start;width: 50%;}#sk-container-id-1 div.sk-parallel-item:only-child::after {width: 0;}#sk-container-id-1 div.sk-dashed-wrapped {border: 1px dashed gray;margin: 0 0.4em 0.5em 0.4em;box-sizing: border-box;padding-bottom: 0.4em;background-color: white;}#sk-container-id-1 div.sk-label label {font-family: monospace;font-weight: bold;display: inline-block;line-height: 1.2em;}#sk-container-id-1 div.sk-label-container {text-align: center;}#sk-container-id-1 div.sk-container {/* jupyter's `normalize.less` sets `[hidden] { display: none; }` but bootstrap.min.css set `[hidden] { display: none !important; }` so we also need the `!important` here to be able to override the default hidden behavior on the sphinx rendered scikit-learn.org. See: https://github.com/scikit-learn/scikit-learn/issues/21755 */display: inline-block !important;position: relative;}#sk-container-id-1 div.sk-text-repr-fallback {display: none;}</style><div id=\"sk-container-id-1\" class=\"sk-top-container\"><div class=\"sk-text-repr-fallback\"><pre>Pipeline(steps=[(&#x27;standardscaler&#x27;, StandardScaler()),\n",
              "                (&#x27;randomforestclassifier&#x27;, RandomForestClassifier(n_jobs=-1))])</pre><b>In a Jupyter environment, please rerun this cell to show the HTML representation or trust the notebook. <br />On GitHub, the HTML representation is unable to render, please try loading this page with nbviewer.org.</b></div><div class=\"sk-container\" hidden><div class=\"sk-item sk-dashed-wrapped\"><div class=\"sk-label-container\"><div class=\"sk-label sk-toggleable\"><input class=\"sk-toggleable__control sk-hidden--visually\" id=\"sk-estimator-id-1\" type=\"checkbox\" ><label for=\"sk-estimator-id-1\" class=\"sk-toggleable__label sk-toggleable__label-arrow\">Pipeline</label><div class=\"sk-toggleable__content\"><pre>Pipeline(steps=[(&#x27;standardscaler&#x27;, StandardScaler()),\n",
              "                (&#x27;randomforestclassifier&#x27;, RandomForestClassifier(n_jobs=-1))])</pre></div></div></div><div class=\"sk-serial\"><div class=\"sk-item\"><div class=\"sk-estimator sk-toggleable\"><input class=\"sk-toggleable__control sk-hidden--visually\" id=\"sk-estimator-id-2\" type=\"checkbox\" ><label for=\"sk-estimator-id-2\" class=\"sk-toggleable__label sk-toggleable__label-arrow\">StandardScaler</label><div class=\"sk-toggleable__content\"><pre>StandardScaler()</pre></div></div></div><div class=\"sk-item\"><div class=\"sk-estimator sk-toggleable\"><input class=\"sk-toggleable__control sk-hidden--visually\" id=\"sk-estimator-id-3\" type=\"checkbox\" ><label for=\"sk-estimator-id-3\" class=\"sk-toggleable__label sk-toggleable__label-arrow\">RandomForestClassifier</label><div class=\"sk-toggleable__content\"><pre>RandomForestClassifier(n_jobs=-1)</pre></div></div></div></div></div></div></div>"
            ],
            "text/plain": [
              "Pipeline(steps=[('standardscaler', StandardScaler()),\n",
              "                ('randomforestclassifier', RandomForestClassifier(n_jobs=-1))])"
            ]
          },
          "execution_count": 33,
          "metadata": {},
          "output_type": "execute_result"
        }
      ],
      "source": [
        "model1"
      ]
    },
    {
      "cell_type": "code",
      "execution_count": null,
      "metadata": {
        "id": "-wqA4nftM2Cm"
      },
      "outputs": [],
      "source": [
        "yhat = model1.predict(X_test)"
      ]
    },
    {
      "cell_type": "code",
      "execution_count": null,
      "metadata": {
        "id": "WuxWv76VkfV2"
      },
      "outputs": [],
      "source": [
        "cm=confusion_matrix(yhat,y_test)"
      ]
    },
    {
      "cell_type": "code",
      "execution_count": null,
      "metadata": {
        "colab": {
          "base_uri": "https://localhost:8080/",
          "height": 481
        },
        "id": "8xcREYAwkfPh",
        "outputId": "ca6ebd11-e77f-487d-9575-86f6ab220b76"
      },
      "outputs": [
        {
          "data": {
            "image/png": "[encoded data removed]",
            "text/plain": [
              "<Figure size 640x480 with 2 Axes>"
            ]
          },
          "metadata": {},
          "output_type": "display_data"
        }
      ],
      "source": [
        "sns.heatmap(cm,\n",
        "            annot=True,\n",
        "            fmt='g')\n",
        "plt.ylabel('Prediction',fontsize=13)\n",
        "plt.xlabel('Actual',fontsize=13)\n",
        "plt.title('Confusion Matrix',fontsize=17)\n",
        "plt.show()"
      ]
    },
    {
      "cell_type": "code",
      "source": [
        "lr=make_pipeline(MinMaxScaler(), log_model)\n",
        "rf=make_pipeline(StandardScaler(), RandomForestClassifier(n_jobs=-1))"
      ],
      "metadata": {
        "id": "SEgV-6gk3eRP"
      },
      "execution_count": 9,
      "outputs": []
    },
    {
      "cell_type": "code",
      "source": [
        "from sklearn.decomposition import PCA"
      ],
      "metadata": {
        "id": "QFWdD5hjHW2A"
      },
      "execution_count": 10,
      "outputs": []
    },
    {
      "cell_type": "code",
      "source": [
        "pca = PCA(900)\n",
        "pca.fit(X_train)\n",
        "X_train_pca=pca.transform(X_train)\n",
        "X_test_pca=pca.transform(X_test)"
      ],
      "metadata": {
        "id": "Frig_hBBHL4M"
      },
      "execution_count": 57,
      "outputs": []
    },
    {
      "cell_type": "code",
      "source": [
        "from  sklearn.ensemble import VotingClassifier\n",
        "\n",
        "estimators = [('lr',lr),('rf', rf)]\n",
        "ensemble = VotingClassifier(estimators, voting = 'soft')\n",
        "ensemble.fit(X_train_pca, y_train)"
      ],
      "metadata": {
        "colab": {
          "base_uri": "https://localhost:8080/",
          "height": 198
        },
        "id": "Gy1cKQ0f3YwF",
        "outputId": "35c76a29-fe13-46dc-bdaa-0ac0bb9553d6"
      },
      "execution_count": 58,
      "outputs": [
        {
          "output_type": "stream",
          "name": "stderr",
          "text": [
            "/usr/local/lib/python3.10/dist-packages/joblib/externals/loky/backend/fork_exec.py:38: RuntimeWarning: os.fork() was called. os.fork() is incompatible with multithreaded code, and JAX is multithreaded, so this will likely lead to a deadlock.\n",
            "  pid = os.fork()\n"
          ]
        },
        {
          "output_type": "execute_result",
          "data": {
            "text/plain": [
              "VotingClassifier(estimators=[('lr',\n",
              "                              Pipeline(steps=[('minmaxscaler', MinMaxScaler()),\n",
              "                                              ('logisticregression',\n",
              "                                               LogisticRegression(max_iter=2000,\n",
              "                                                                  n_jobs=-1))])),\n",
              "                             ('rf',\n",
              "                              Pipeline(steps=[('standardscaler',\n",
              "                                               StandardScaler()),\n",
              "                                              ('randomforestclassifier',\n",
              "                                               RandomForestClassifier(n_jobs=-1))]))],\n",
              "                 voting='soft')"
            ],
            "text/html": [
              "<style>#sk-container-id-9 {color: black;background-color: white;}#sk-container-id-9 pre{padding: 0;}#sk-container-id-9 div.sk-toggleable {background-color: white;}#sk-container-id-9 label.sk-toggleable__label {cursor: pointer;display: block;width: 100%;margin-bottom: 0;padding: 0.3em;box-sizing: border-box;text-align: center;}#sk-container-id-9 label.sk-toggleable__label-arrow:before {content: \"▸\";float: left;margin-right: 0.25em;color: #696969;}#sk-container-id-9 label.sk-toggleable__label-arrow:hover:before {color: black;}#sk-container-id-9 div.sk-estimator:hover label.sk-toggleable__label-arrow:before {color: black;}#sk-container-id-9 div.sk-toggleable__content {max-height: 0;max-width: 0;overflow: hidden;text-align: left;background-color: #f0f8ff;}#sk-container-id-9 div.sk-toggleable__content pre {margin: 0.2em;color: black;border-radius: 0.25em;background-color: #f0f8ff;}#sk-container-id-9 input.sk-toggleable__control:checked~div.sk-toggleable__content {max-height: 200px;max-width: 100%;overflow: auto;}#sk-container-id-9 input.sk-toggleable__control:checked~label.sk-toggleable__label-arrow:before {content: \"▾\";}#sk-container-id-9 div.sk-estimator input.sk-toggleable__control:checked~label.sk-toggleable__label {background-color: #d4ebff;}#sk-container-id-9 div.sk-label input.sk-toggleable__control:checked~label.sk-toggleable__label {background-color: #d4ebff;}#sk-container-id-9 input.sk-hidden--visually {border: 0;clip: rect(1px 1px 1px 1px);clip: rect(1px, 1px, 1px, 1px);height: 1px;margin: -1px;overflow: hidden;padding: 0;position: absolute;width: 1px;}#sk-container-id-9 div.sk-estimator {font-family: monospace;background-color: #f0f8ff;border: 1px dotted black;border-radius: 0.25em;box-sizing: border-box;margin-bottom: 0.5em;}#sk-container-id-9 div.sk-estimator:hover {background-color: #d4ebff;}#sk-container-id-9 div.sk-parallel-item::after {content: \"\";width: 100%;border-bottom: 1px solid gray;flex-grow: 1;}#sk-container-id-9 div.sk-label:hover label.sk-toggleable__label {background-color: #d4ebff;}#sk-container-id-9 div.sk-serial::before {content: \"\";position: absolute;border-left: 1px solid gray;box-sizing: border-box;top: 0;bottom: 0;left: 50%;z-index: 0;}#sk-container-id-9 div.sk-serial {display: flex;flex-direction: column;align-items: center;background-color: white;padding-right: 0.2em;padding-left: 0.2em;position: relative;}#sk-container-id-9 div.sk-item {position: relative;z-index: 1;}#sk-container-id-9 div.sk-parallel {display: flex;align-items: stretch;justify-content: center;background-color: white;position: relative;}#sk-container-id-9 div.sk-item::before, #sk-container-id-9 div.sk-parallel-item::before {content: \"\";position: absolute;border-left: 1px solid gray;box-sizing: border-box;top: 0;bottom: 0;left: 50%;z-index: -1;}#sk-container-id-9 div.sk-parallel-item {display: flex;flex-direction: column;z-index: 1;position: relative;background-color: white;}#sk-container-id-9 div.sk-parallel-item:first-child::after {align-self: flex-end;width: 50%;}#sk-container-id-9 div.sk-parallel-item:last-child::after {align-self: flex-start;width: 50%;}#sk-container-id-9 div.sk-parallel-item:only-child::after {width: 0;}#sk-container-id-9 div.sk-dashed-wrapped {border: 1px dashed gray;margin: 0 0.4em 0.5em 0.4em;box-sizing: border-box;padding-bottom: 0.4em;background-color: white;}#sk-container-id-9 div.sk-label label {font-family: monospace;font-weight: bold;display: inline-block;line-height: 1.2em;}#sk-container-id-9 div.sk-label-container {text-align: center;}#sk-container-id-9 div.sk-container {/* jupyter's `normalize.less` sets `[hidden] { display: none; }` but bootstrap.min.css set `[hidden] { display: none !important; }` so we also need the `!important` here to be able to override the default hidden behavior on the sphinx rendered scikit-learn.org. See: https://github.com/scikit-learn/scikit-learn/issues/21755 */display: inline-block !important;position: relative;}#sk-container-id-9 div.sk-text-repr-fallback {display: none;}</style><div id=\"sk-container-id-9\" class=\"sk-top-container\"><div class=\"sk-text-repr-fallback\"><pre>VotingClassifier(estimators=[(&#x27;lr&#x27;,\n",
              "                              Pipeline(steps=[(&#x27;minmaxscaler&#x27;, MinMaxScaler()),\n",
              "                                              (&#x27;logisticregression&#x27;,\n",
              "                                               LogisticRegression(max_iter=2000,\n",
              "                                                                  n_jobs=-1))])),\n",
              "                             (&#x27;rf&#x27;,\n",
              "                              Pipeline(steps=[(&#x27;standardscaler&#x27;,\n",
              "                                               StandardScaler()),\n",
              "                                              (&#x27;randomforestclassifier&#x27;,\n",
              "                                               RandomForestClassifier(n_jobs=-1))]))],\n",
              "                 voting=&#x27;soft&#x27;)</pre><b>In a Jupyter environment, please rerun this cell to show the HTML representation or trust the notebook. <br />On GitHub, the HTML representation is unable to render, please try loading this page with nbviewer.org.</b></div><div class=\"sk-container\" hidden><div class=\"sk-item sk-dashed-wrapped\"><div class=\"sk-label-container\"><div class=\"sk-label sk-toggleable\"><input class=\"sk-toggleable__control sk-hidden--visually\" id=\"sk-estimator-id-41\" type=\"checkbox\" ><label for=\"sk-estimator-id-41\" class=\"sk-toggleable__label sk-toggleable__label-arrow\">VotingClassifier</label><div class=\"sk-toggleable__content\"><pre>VotingClassifier(estimators=[(&#x27;lr&#x27;,\n",
              "                              Pipeline(steps=[(&#x27;minmaxscaler&#x27;, MinMaxScaler()),\n",
              "                                              (&#x27;logisticregression&#x27;,\n",
              "                                               LogisticRegression(max_iter=2000,\n",
              "                                                                  n_jobs=-1))])),\n",
              "                             (&#x27;rf&#x27;,\n",
              "                              Pipeline(steps=[(&#x27;standardscaler&#x27;,\n",
              "                                               StandardScaler()),\n",
              "                                              (&#x27;randomforestclassifier&#x27;,\n",
              "                                               RandomForestClassifier(n_jobs=-1))]))],\n",
              "                 voting=&#x27;soft&#x27;)</pre></div></div></div><div class=\"sk-parallel\"><div class=\"sk-parallel-item\"><div class=\"sk-item\"><div class=\"sk-label-container\"><div class=\"sk-label sk-toggleable\"><label>lr</label></div></div><div class=\"sk-serial\"><div class=\"sk-item\"><div class=\"sk-serial\"><div class=\"sk-item\"><div class=\"sk-estimator sk-toggleable\"><input class=\"sk-toggleable__control sk-hidden--visually\" id=\"sk-estimator-id-42\" type=\"checkbox\" ><label for=\"sk-estimator-id-42\" class=\"sk-toggleable__label sk-toggleable__label-arrow\">MinMaxScaler</label><div class=\"sk-toggleable__content\"><pre>MinMaxScaler()</pre></div></div></div><div class=\"sk-item\"><div class=\"sk-estimator sk-toggleable\"><input class=\"sk-toggleable__control sk-hidden--visually\" id=\"sk-estimator-id-43\" type=\"checkbox\" ><label for=\"sk-estimator-id-43\" class=\"sk-toggleable__label sk-toggleable__label-arrow\">LogisticRegression</label><div class=\"sk-toggleable__content\"><pre>LogisticRegression(max_iter=2000, n_jobs=-1)</pre></div></div></div></div></div></div></div></div><div class=\"sk-parallel-item\"><div class=\"sk-item\"><div class=\"sk-label-container\"><div class=\"sk-label sk-toggleable\"><label>rf</label></div></div><div class=\"sk-serial\"><div class=\"sk-item\"><div class=\"sk-serial\"><div class=\"sk-item\"><div class=\"sk-estimator sk-toggleable\"><input class=\"sk-toggleable__control sk-hidden--visually\" id=\"sk-estimator-id-44\" type=\"checkbox\" ><label for=\"sk-estimator-id-44\" class=\"sk-toggleable__label sk-toggleable__label-arrow\">StandardScaler</label><div class=\"sk-toggleable__content\"><pre>StandardScaler()</pre></div></div></div><div class=\"sk-item\"><div class=\"sk-estimator sk-toggleable\"><input class=\"sk-toggleable__control sk-hidden--visually\" id=\"sk-estimator-id-45\" type=\"checkbox\" ><label for=\"sk-estimator-id-45\" class=\"sk-toggleable__label sk-toggleable__label-arrow\">RandomForestClassifier</label><div class=\"sk-toggleable__content\"><pre>RandomForestClassifier(n_jobs=-1)</pre></div></div></div></div></div></div></div></div></div></div></div></div>"
            ]
          },
          "metadata": {},
          "execution_count": 58
        }
      ]
    },
    {
      "cell_type": "code",
      "source": [
        "with open('ensemble_pca.pkl', 'wb') as f:\n",
        "    pickle.dump(ensemble, f)"
      ],
      "metadata": {
        "id": "jna8oWts3jJO"
      },
      "execution_count": 59,
      "outputs": []
    },
    {
      "cell_type": "code",
      "source": [
        "yhat=ensemble.predict(X_test_pca)\n",
        "print(accuracy_score(yhat,y_test)*100)"
      ],
      "metadata": {
        "colab": {
          "base_uri": "https://localhost:8080/"
        },
        "id": "uJoklyV4BVQI",
        "outputId": "7a69e53b-717a-4610-a817-a9888ddc3bf4"
      },
      "execution_count": 60,
      "outputs": [
        {
          "output_type": "stream",
          "name": "stdout",
          "text": [
            "0.6568832983927324\n"
          ]
        }
      ]
    },
    {
      "cell_type": "code",
      "source": [
        "estimators = [('lr',lr),('rf', rf)]\n",
        "ensemble_mi = VotingClassifier(estimators, voting = 'soft')\n",
        "ensemble_mi.fit(X_train, y_train)\n",
        "with open('ensemble_mi.pkl', 'wb') as f:\n",
        "    pickle.dump(ensemble_mi, f)\n",
        "yhat=ensemble_mi.predict(X_test)\n",
        "print(accuracy_score(yhat,y_test)*100)"
      ],
      "metadata": {
        "colab": {
          "base_uri": "https://localhost:8080/"
        },
        "id": "YFpptvNuw5c9",
        "outputId": "0de0c14c-f25e-4157-bc42-79d3aae76785"
      },
      "execution_count": 88,
      "outputs": [
        {
          "output_type": "stream",
          "name": "stderr",
          "text": [
            "/usr/local/lib/python3.10/dist-packages/joblib/externals/loky/backend/fork_exec.py:38: RuntimeWarning: os.fork() was called. os.fork() is incompatible with multithreaded code, and JAX is multithreaded, so this will likely lead to a deadlock.\n",
            "  pid = os.fork()\n"
          ]
        },
        {
          "output_type": "stream",
          "name": "stdout",
          "text": [
            "64.7099930118798\n"
          ]
        }
      ]
    },
    {
      "cell_type": "code",
      "execution_count": 28,
      "metadata": {
        "id": "1gGIY3a8vclK"
      },
      "outputs": [],
      "source": [
        "# run the above model in ur local machine, with CV2 to recognize emotions"
      ]
    }
  ],
  "metadata": {
    "colab": {
      "provenance": [],
      "mount_file_id": "13pDG0MeDpay__ezh0HqENGSJ7vPmqio1",
      "authorship_tag": "ABX9TyMgLGL27k0IJsU1WMZ98kTn",
      "include_colab_link": true
    },
    "kernelspec": {
      "display_name": "Python 3",
      "name": "python3"
    },
    "language_info": {
      "name": "python"
    }
  },
  "nbformat": 4,
  "nbformat_minor": 0
}